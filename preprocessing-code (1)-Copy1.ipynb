{
 "cells": [
  {
   "cell_type": "markdown",
   "id": "aeac8230",
   "metadata": {},
   "source": [
    "# Data Preprocessing & Feature Engineering\n",
    "\n",
    "This notebook handles data cleaning, text preprocessing, feature extraction, and handling class imbalances."
   ]
  },
  {
   "cell_type": "code",
   "execution_count": 2,
   "id": "22150d15",
   "metadata": {},
   "outputs": [],
   "source": [
    "# ! pip install unidecode"
   ]
  },
  {
   "cell_type": "code",
   "execution_count": 3,
   "id": "34d3b81d",
   "metadata": {},
   "outputs": [
    {
     "name": "stdout",
     "output_type": "stream",
     "text": [
      "Requirement already satisfied: imblearn in c:\\anaconda\\envs\\trabalho_labsiacd\\lib\\site-packages (0.0)\n",
      "Requirement already satisfied: imbalanced-learn in c:\\anaconda\\envs\\trabalho_labsiacd\\lib\\site-packages (from imblearn) (0.12.4)\n",
      "Requirement already satisfied: numpy>=1.17.3 in c:\\anaconda\\envs\\trabalho_labsiacd\\lib\\site-packages (from imbalanced-learn->imblearn) (2.0.2)\n",
      "Requirement already satisfied: scipy>=1.5.0 in c:\\anaconda\\envs\\trabalho_labsiacd\\lib\\site-packages (from imbalanced-learn->imblearn) (1.13.1)\n",
      "Requirement already satisfied: scikit-learn>=1.0.2 in c:\\anaconda\\envs\\trabalho_labsiacd\\lib\\site-packages (from imbalanced-learn->imblearn) (1.6.0)\n",
      "Requirement already satisfied: joblib>=1.1.1 in c:\\anaconda\\envs\\trabalho_labsiacd\\lib\\site-packages (from imbalanced-learn->imblearn) (1.4.2)\n",
      "Requirement already satisfied: threadpoolctl>=2.0.0 in c:\\anaconda\\envs\\trabalho_labsiacd\\lib\\site-packages (from imbalanced-learn->imblearn) (3.5.0)\n"
     ]
    }
   ],
   "source": [
    "! pip install imblearn"
   ]
  },
  {
   "cell_type": "code",
   "execution_count": 4,
   "id": "1c25fbe5",
   "metadata": {},
   "outputs": [],
   "source": [
    "import pandas as pd\n",
    "import numpy as np\n",
    "import re\n",
    "import string\n",
    "import nltk\n",
    "from nltk.corpus import stopwords\n",
    "from nltk.tokenize import word_tokenize\n",
    "from nltk.stem import RSLPStemmer\n",
    "import unidecode\n",
    "from sklearn.feature_extraction.text import CountVectorizer, TfidfVectorizer\n",
    "from sklearn.model_selection import train_test_split\n",
    "from sklearn.preprocessing import StandardScaler\n",
    "from imblearn.over_sampling import SMOTE"
   ]
  },
  {
   "cell_type": "markdown",
   "id": "631c5c89",
   "metadata": {},
   "source": [
    "## Download necessary NLTK resources"
   ]
  },
  {
   "cell_type": "code",
   "execution_count": 5,
   "id": "aa900341",
   "metadata": {},
   "outputs": [
    {
     "name": "stderr",
     "output_type": "stream",
     "text": [
      "[nltk_data] Downloading package stopwords to\n",
      "[nltk_data]     C:\\Users\\Nuno_Moreira\\AppData\\Roaming\\nltk_data...\n",
      "[nltk_data]   Package stopwords is already up-to-date!\n",
      "[nltk_data] Downloading package punkt to\n",
      "[nltk_data]     C:\\Users\\Nuno_Moreira\\AppData\\Roaming\\nltk_data...\n",
      "[nltk_data]   Package punkt is already up-to-date!\n",
      "[nltk_data] Downloading package rslp to\n",
      "[nltk_data]     C:\\Users\\Nuno_Moreira\\AppData\\Roaming\\nltk_data...\n",
      "[nltk_data]   Package rslp is already up-to-date!\n"
     ]
    },
    {
     "data": {
      "text/plain": [
       "True"
      ]
     },
     "execution_count": 5,
     "metadata": {},
     "output_type": "execute_result"
    }
   ],
   "source": [
    "nltk.download('stopwords')\n",
    "nltk.download('punkt')\n",
    "nltk.download('rslp')"
   ]
  },
  {
   "cell_type": "markdown",
   "id": "b555b536",
   "metadata": {},
   "source": [
    "## Load the processed dataset"
   ]
  },
  {
   "cell_type": "code",
   "execution_count": 6,
   "id": "41339419",
   "metadata": {},
   "outputs": [
    {
     "name": "stderr",
     "output_type": "stream",
     "text": [
      "C:\\Users\\Nuno_Moreira\\AppData\\Local\\Temp\\ipykernel_16328\\692257594.py:1: DtypeWarning: Columns (2) have mixed types. Specify dtype option on import or set low_memory=False.\n",
      "  df = pd.read_csv('b2w_reviews_processed.csv')\n"
     ]
    }
   ],
   "source": [
    "df = pd.read_csv('b2w_reviews_processed.csv')"
   ]
  },
  {
   "cell_type": "markdown",
   "id": "fbb44ade",
   "metadata": {},
   "source": [
    "## Define text preprocessing function for Portuguese text"
   ]
  },
  {
   "cell_type": "code",
   "execution_count": 7,
   "id": "451e4945",
   "metadata": {},
   "outputs": [],
   "source": [
    "def preprocess_portuguese_text(text):\n",
    "    if not isinstance(text, str):\n",
    "        return \"\"\n",
    "    \n",
    "    # Convert to lowercase\n",
    "    text = text.lower()\n",
    "    \n",
    "    # Remove accents\n",
    "    text = unidecode.unidecode(text)\n",
    "    \n",
    "    # Remove URLs\n",
    "    text = re.sub(r'http\\S+|www\\S+|https\\S+', '', text)\n",
    "    \n",
    "    # Remove special characters and numbers\n",
    "    text = re.sub(r'[^\\w\\s]', '', text)\n",
    "    text = re.sub(r'\\d+', '', text)\n",
    "    \n",
    "    # Tokenize\n",
    "    tokens = word_tokenize(text)\n",
    "    \n",
    "    # Remove stopwords\n",
    "    stop_words = set(stopwords.words('portuguese'))\n",
    "    tokens = [word for word in tokens if word not in stop_words]\n",
    "    \n",
    "    # Stemming\n",
    "    stemmer = RSLPStemmer()\n",
    "    tokens = [stemmer.stem(word) for word in tokens]\n",
    "    \n",
    "    # Join tokens back into a string\n",
    "    return ' '.join(tokens)"
   ]
  },
  {
   "cell_type": "markdown",
   "id": "d37aca14",
   "metadata": {},
   "source": [
    "## Apply preprocessing to review title and text"
   ]
  },
  {
   "cell_type": "code",
   "execution_count": 8,
   "id": "afc6ae95",
   "metadata": {},
   "outputs": [],
   "source": [
    "df['processed_title'] = df['review_title'].apply(preprocess_portuguese_text)\n",
    "df['processed_text'] = df['review_text'].apply(preprocess_portuguese_text)"
   ]
  },
  {
   "cell_type": "markdown",
   "id": "bf471d78",
   "metadata": {},
   "source": [
    "## Combine title and text (with title given more weight)"
   ]
  },
  {
   "cell_type": "code",
   "execution_count": 9,
   "id": "86123377",
   "metadata": {},
   "outputs": [],
   "source": [
    "df['processed_combined'] = df['processed_title'] + ' ' + df['processed_text']"
   ]
  },
  {
   "cell_type": "markdown",
   "id": "fd765d0f",
   "metadata": {},
   "source": [
    "## Create additional features"
   ]
  },
  {
   "cell_type": "markdown",
   "id": "b3c80b32",
   "metadata": {},
   "source": [
    "## 1. Review length features"
   ]
  },
  {
   "cell_type": "code",
   "execution_count": 10,
   "id": "74567441",
   "metadata": {},
   "outputs": [],
   "source": [
    "df['title_length'] = df['review_title'].apply(lambda x: len(str(x)))\n",
    "df['text_length'] = df['review_text'].apply(lambda x: len(str(x)))\n",
    "df['title_word_count'] = df['review_title'].apply(lambda x: len(str(x).split()))\n",
    "df['text_word_count'] = df['review_text'].apply(lambda x: len(str(x).split()))"
   ]
  },
  {
   "cell_type": "markdown",
   "id": "02a7fce4",
   "metadata": {},
   "source": [
    "## 2. Capitalization features (might indicate emphasis or strong emotion)"
   ]
  },
  {
   "cell_type": "code",
   "execution_count": 11,
   "id": "d4fbb5be",
   "metadata": {},
   "outputs": [],
   "source": [
    "df['caps_ratio'] = df['review_text'].apply(\n",
    "    lambda x: sum(1 for c in str(x) if c.isupper()) / len(str(x)) if len(str(x)) > 0 else 0\n",
    ")"
   ]
  },
  {
   "cell_type": "markdown",
   "id": "245eb470",
   "metadata": {},
   "source": [
    "## 3. Punctuation features"
   ]
  },
  {
   "cell_type": "code",
   "execution_count": 12,
   "id": "0c13cb31",
   "metadata": {},
   "outputs": [],
   "source": [
    "def count_exclamations(text):\n",
    "    if not isinstance(text, str):\n",
    "        return 0\n",
    "    return text.count('!')\n",
    "\n",
    "def count_question_marks(text):\n",
    "    if not isinstance(text, str):\n",
    "        return 0\n",
    "    return text.count('?')\n",
    "\n",
    "df['exclamation_count'] = df['review_text'].apply(count_exclamations)\n",
    "df['question_count'] = df['review_text'].apply(count_question_marks)"
   ]
  },
  {
   "cell_type": "markdown",
   "id": "c190601c",
   "metadata": {},
   "source": [
    "## 4. Word-based sentiment features (using common positive/negative words in Portuguese)"
   ]
  },
  {
   "cell_type": "markdown",
   "id": "5731ca7a",
   "metadata": {},
   "source": [
    "## This is a simple approach - ideally, you would use a proper sentiment lexicon for Portuguese"
   ]
  },
  {
   "cell_type": "markdown",
   "id": "0a6c4174",
   "metadata": {},
   "source": [
    "## Sample positive and negative words in Portuguese (expand this list)"
   ]
  },
  {
   "cell_type": "code",
   "execution_count": 13,
   "id": "e286e78d",
   "metadata": {},
   "outputs": [],
   "source": [
    "positive_words = ['bom', 'otimo', 'excelente', 'perfeito', 'adorei', 'gostei', 'recomendo', 'maravilhoso']\n",
    "negative_words = ['ruim', 'pessimo', 'horrivel', 'terrivel', 'detestei', 'nao', 'problema', 'defeito']"
   ]
  },
  {
   "cell_type": "markdown",
   "id": "6f456587",
   "metadata": {},
   "source": [
    "## Count occurrences of positive and negative words"
   ]
  },
  {
   "cell_type": "code",
   "execution_count": 14,
   "id": "e4ada167",
   "metadata": {},
   "outputs": [],
   "source": [
    "def count_sentiment_words(text, word_list):\n",
    "    if not isinstance(text, str):\n",
    "        return 0\n",
    "    \n",
    "    text = text.lower()\n",
    "    count = 0\n",
    "    for word in word_list:\n",
    "        count += len(re.findall(r'\\b' + word + r'\\b', text))\n",
    "    return count\n",
    "\n",
    "df['positive_word_count'] = df['review_text'].apply(lambda x: count_sentiment_words(x, positive_words))\n",
    "df['negative_word_count'] = df['review_text'].apply(lambda x: count_sentiment_words(x, negative_words))\n",
    "df['sentiment_ratio'] = df.apply(\n",
    "    lambda row: row['positive_word_count'] / (row['negative_word_count'] + 1), axis=1\n",
    ")"
   ]
  },
  {
   "cell_type": "markdown",
   "id": "3e90a253",
   "metadata": {},
   "source": [
    "## 5. Categorical features (one-hot encoding)"
   ]
  },
  {
   "cell_type": "markdown",
   "id": "df0b5a63",
   "metadata": {},
   "source": [
    "## For product categories"
   ]
  },
  {
   "cell_type": "code",
   "execution_count": 15,
   "id": "c5b21dfa",
   "metadata": {},
   "outputs": [],
   "source": [
    "category_dummies = pd.get_dummies(df['site_category_lv1'], prefix='cat1')\n",
    "df = pd.concat([df, category_dummies], axis=1)"
   ]
  },
  {
   "cell_type": "markdown",
   "id": "10c41fa1",
   "metadata": {},
   "source": [
    "## For reviewer gender"
   ]
  },
  {
   "cell_type": "code",
   "execution_count": 16,
   "id": "5c348b52",
   "metadata": {},
   "outputs": [],
   "source": [
    "gender_dummies = pd.get_dummies(df['reviewer_gender'], prefix='gender')\n",
    "df = pd.concat([df, gender_dummies], axis=1)"
   ]
  },
  {
   "cell_type": "markdown",
   "id": "75f0fd8a",
   "metadata": {},
   "source": [
    "## 6. Text representation with TF-IDF"
   ]
  },
  {
   "cell_type": "markdown",
   "id": "10124944",
   "metadata": {},
   "source": [
    "## Using unigrams and bigrams"
   ]
  },
  {
   "cell_type": "code",
   "execution_count": 17,
   "id": "01eb00ee",
   "metadata": {},
   "outputs": [],
   "source": [
    "tfidf_vectorizer = TfidfVectorizer(\n",
    "    max_features=1000,  # Limit to top 1000 features\n",
    "    min_df=5,           # Ignore terms that appear in less than 5 documents\n",
    "    max_df=0.7,         # Ignore terms that appear in more than 70% of documents\n",
    "    ngram_range=(1, 2)  # Include unigrams and bigrams\n",
    ")"
   ]
  },
  {
   "cell_type": "markdown",
   "id": "3c343720",
   "metadata": {},
   "source": [
    "## Fit and transform the processed combined text"
   ]
  },
  {
   "cell_type": "code",
   "execution_count": 18,
   "id": "3d7631e3",
   "metadata": {},
   "outputs": [],
   "source": [
    "tfidf_matrix = tfidf_vectorizer.fit_transform(df['processed_combined'])"
   ]
  },
  {
   "cell_type": "markdown",
   "id": "da592f3f",
   "metadata": {},
   "source": [
    "## Convert to DataFrame for later use"
   ]
  },
  {
   "cell_type": "code",
   "execution_count": 19,
   "id": "22a14f92",
   "metadata": {},
   "outputs": [],
   "source": [
    "tfidf_df = pd.DataFrame(\n",
    "    tfidf_matrix.toarray(),\n",
    "    columns=tfidf_vectorizer.get_feature_names_out()\n",
    ")"
   ]
  },
  {
   "cell_type": "markdown",
   "id": "c6599962",
   "metadata": {},
   "source": [
    "## Save the feature names for later use"
   ]
  },
  {
   "cell_type": "code",
   "execution_count": 20,
   "id": "ef749b21",
   "metadata": {},
   "outputs": [],
   "source": [
    "feature_names = tfidf_vectorizer.get_feature_names_out()\n",
    "pd.Series(feature_names).to_csv('tfidf_feature_names.csv', index=False)"
   ]
  },
  {
   "cell_type": "markdown",
   "id": "4556231d",
   "metadata": {},
   "source": [
    "## 7. Define the target variable (based on the task you're interested in)"
   ]
  },
  {
   "cell_type": "markdown",
   "id": "3c5db5e9",
   "metadata": {},
   "source": [
    "## Options:"
   ]
  },
  {
   "cell_type": "markdown",
   "id": "1159662e",
   "metadata": {},
   "source": [
    "## a. Binary sentiment (positive vs negative)"
   ]
  },
  {
   "cell_type": "code",
   "execution_count": 21,
   "id": "2e7533d0",
   "metadata": {},
   "outputs": [],
   "source": [
    "df['sentiment_binary'] = df['overall_rating'].apply(lambda x: 1 if x >= 4 else 0)"
   ]
  },
  {
   "cell_type": "markdown",
   "id": "87e7d98a",
   "metadata": {},
   "source": [
    "## b. Three-class sentiment (positive, neutral, negative)"
   ]
  },
  {
   "cell_type": "code",
   "execution_count": 22,
   "id": "f0597bbc",
   "metadata": {},
   "outputs": [],
   "source": [
    "df['sentiment_3class'] = df['overall_rating'].apply(\n",
    "    lambda x: 2 if x >= 4 else (1 if x == 3 else 0)\n",
    ")"
   ]
  },
  {
   "cell_type": "markdown",
   "id": "d897b68d",
   "metadata": {},
   "source": [
    "## c. Recommendation prediction (yes/no)"
   ]
  },
  {
   "cell_type": "code",
   "execution_count": 23,
   "id": "9e93dedf",
   "metadata": {},
   "outputs": [],
   "source": [
    "df['recommendation'] = df['recommend_to_a_friend'].apply(lambda x: 1 if x == 'Yes' else 0)"
   ]
  },
  {
   "cell_type": "markdown",
   "id": "642a6d92",
   "metadata": {},
   "source": [
    "## d. Rating prediction (1-5)"
   ]
  },
  {
   "cell_type": "code",
   "execution_count": 24,
   "id": "fd92ed2b",
   "metadata": {},
   "outputs": [],
   "source": [
    "df['rating'] = df['overall_rating']"
   ]
  },
  {
   "cell_type": "markdown",
   "id": "549f7048",
   "metadata": {},
   "source": [
    "## 8. Handle class imbalance (if needed, for classification tasks)"
   ]
  },
  {
   "cell_type": "markdown",
   "id": "93cdee86",
   "metadata": {},
   "source": [
    "## Here's an example for binary sentiment classification"
   ]
  },
  {
   "cell_type": "markdown",
   "id": "e0bd7a45",
   "metadata": {},
   "source": [
    "## Prepare the feature matrix for sentiment binary classification"
   ]
  },
  {
   "cell_type": "code",
   "execution_count": 25,
   "id": "3b36be8c",
   "metadata": {},
   "outputs": [],
   "source": [
    "X_numeric = df[[\n",
    "    'title_length', 'text_length', 'title_word_count', 'text_word_count',\n",
    "    'caps_ratio', 'exclamation_count', 'question_count',\n",
    "    'positive_word_count', 'negative_word_count', 'sentiment_ratio'\n",
    "]].values"
   ]
  },
  {
   "cell_type": "markdown",
   "id": "efa5c97a",
   "metadata": {},
   "source": [
    "## Scale numeric features"
   ]
  },
  {
   "cell_type": "code",
   "execution_count": 26,
   "id": "081375ba",
   "metadata": {},
   "outputs": [],
   "source": [
    "scaler = StandardScaler()\n",
    "X_numeric_scaled = scaler.fit_transform(X_numeric)"
   ]
  },
  {
   "cell_type": "markdown",
   "id": "6572f6a5",
   "metadata": {},
   "source": [
    "## Prepare for splitting data"
   ]
  },
  {
   "cell_type": "code",
   "execution_count": 27,
   "id": "c3d1fc47",
   "metadata": {},
   "outputs": [],
   "source": [
    "X = np.hstack((X_numeric_scaled, tfidf_matrix.toarray()))\n",
    "y = df['sentiment_binary'].values"
   ]
  },
  {
   "cell_type": "markdown",
   "id": "e0a2d1c0",
   "metadata": {},
   "source": [
    "## Split into train and test sets"
   ]
  },
  {
   "cell_type": "code",
   "execution_count": 32,
   "id": "0d54dd5e",
   "metadata": {},
   "outputs": [
    {
     "name": "stdout",
     "output_type": "stream",
     "text": [
      "Original TF-IDF shape: (132373, 1000)\n",
      "Reduced shape: (132373, 100)\n"
     ]
    },
    {
     "name": "stderr",
     "output_type": "stream",
     "text": [
      "C:\\Anaconda\\envs\\trabalho_labsiacd\\lib\\site-packages\\sklearn\\base.py:474: FutureWarning: `BaseEstimator._validate_data` is deprecated in 1.6 and will be removed in 1.7. Use `sklearn.utils.validation.validate_data` instead. This function becomes public and is part of the scikit-learn developer API.\n",
      "  warnings.warn(\n",
      "C:\\Anaconda\\envs\\trabalho_labsiacd\\lib\\site-packages\\sklearn\\utils\\_tags.py:354: FutureWarning: The SMOTE or classes from which it inherits use `_get_tags` and `_more_tags`. Please define the `__sklearn_tags__` method, or inherit from `sklearn.base.BaseEstimator` and/or other appropriate mixins such as `sklearn.base.TransformerMixin`, `sklearn.base.ClassifierMixin`, `sklearn.base.RegressorMixin`, and `sklearn.base.OutlierMixin`. From scikit-learn 1.7, not defining `__sklearn_tags__` will raise an error.\n",
      "  warnings.warn(\n"
     ]
    },
    {
     "name": "stdout",
     "output_type": "stream",
     "text": [
      "Class distribution after resampling:\n",
      "overall_rating\n",
      "1    38399\n",
      "2    38399\n",
      "3    38399\n",
      "4    38399\n",
      "5    38399\n",
      "Name: count, dtype: int64\n",
      "Original training set shape: (105898, 100)\n",
      "Resampled training set shape: (191995, 100)\n"
     ]
    }
   ],
   "source": [
    "# Fill NaN values in your dataframe\n",
    "df['review_text'] = df['review_text'].fillna('')\n",
    "\n",
    "# Apply TF-IDF vectorization with fewer features to save memory\n",
    "# Note: We're using preprocess_portuguese_text directly, not as a lambda\n",
    "#tfidf_vectorizer = TfidfVectorizer(max_features=500, preprocessor=preprocess_portuguese_text)\n",
    "X_tfidf = tfidf_vectorizer.fit_transform(df['review_text'])\n",
    "\n",
    "from sklearn.decomposition import TruncatedSVD\n",
    "# Apply dimensionality reduction\n",
    "svd = TruncatedSVD(n_components=100, random_state=42)\n",
    "X_reduced = svd.fit_transform(X_tfidf)\n",
    "\n",
    "print(f\"Original TF-IDF shape: {X_tfidf.shape}\")\n",
    "print(f\"Reduced shape: {X_reduced.shape}\")\n",
    "\n",
    "# Split data\n",
    "X_train, X_test, y_train, y_test = train_test_split(\n",
    "    X_reduced, df['overall_rating'], test_size=0.2, random_state=42\n",
    ")\n",
    "\n",
    "# Now try SMOTE on the reduced dataset\n",
    "# Use SMOTE with not_majority strategy to avoid oversampling to fully balanced classes\n",
    "smote = SMOTE(sampling_strategy='not majority', random_state=42)\n",
    "X_train_resampled, y_train_resampled = smote.fit_resample(X_train, y_train)\n",
    "\n",
    "# Check the distribution of classes after resampling\n",
    "print(\"Class distribution after resampling:\")\n",
    "print(pd.Series(y_train_resampled).value_counts().sort_index())\n",
    "\n",
    "print(f\"Original training set shape: {X_train.shape}\")\n",
    "print(f\"Resampled training set shape: {X_train_resampled.shape}\")"
   ]
  },
  {
   "cell_type": "markdown",
   "id": "f4d49d43",
   "metadata": {},
   "source": [
    "## Save the train and test data"
   ]
  },
  {
   "cell_type": "code",
   "execution_count": 33,
   "id": "1bd6c506",
   "metadata": {},
   "outputs": [],
   "source": [
    "np.save('X_train.npy', X_train)\n",
    "np.save('X_test.npy', X_test)\n",
    "np.save('y_train.npy', y_train)\n",
    "np.save('y_test.npy', y_test)\n",
    "np.save('X_train_resampled.npy', X_train_resampled)\n",
    "np.save('y_train_resampled.npy', y_train_resampled)"
   ]
  },
  {
   "cell_type": "markdown",
   "id": "84acac18",
   "metadata": {},
   "source": [
    "## Save feature column names and their indices for later use"
   ]
  },
  {
   "cell_type": "code",
   "execution_count": 34,
   "id": "c63a4052",
   "metadata": {},
   "outputs": [],
   "source": [
    "feature_columns = list(df[[\n",
    "    'title_length', 'text_length', 'title_word_count', 'text_word_count',\n",
    "    'caps_ratio', 'exclamation_count', 'question_count',\n",
    "    'positive_word_count', 'negative_word_count', 'sentiment_ratio'\n",
    "]].columns) + list(feature_names)\n",
    "\n",
    "feature_indices = {feature: i for i, feature in enumerate(feature_columns)}\n",
    "pd.DataFrame.from_dict(feature_indices, orient='index').to_csv('feature_indices.csv')"
   ]
  },
  {
   "cell_type": "markdown",
   "id": "552fc17a",
   "metadata": {},
   "source": [
    "## Save the processed dataframe"
   ]
  },
  {
   "cell_type": "code",
   "execution_count": 35,
   "id": "fca7685d",
   "metadata": {},
   "outputs": [
    {
     "name": "stdout",
     "output_type": "stream",
     "text": [
      "Feature engineering and preprocessing completed.\n"
     ]
    }
   ],
   "source": [
    "df.to_csv('b2w_reviews_features.csv', index=False)\n",
    "\n",
    "print(\"Feature engineering and preprocessing completed.\")"
   ]
  }
 ],
 "metadata": {
  "kernelspec": {
   "display_name": "Python 3 (ipykernel)",
   "language": "python",
   "name": "python3"
  },
  "language_info": {
   "codemirror_mode": {
    "name": "ipython",
    "version": 3
   },
   "file_extension": ".py",
   "mimetype": "text/x-python",
   "name": "python",
   "nbconvert_exporter": "python",
   "pygments_lexer": "ipython3",
   "version": "3.9.18"
  }
 },
 "nbformat": 4,
 "nbformat_minor": 5
}
